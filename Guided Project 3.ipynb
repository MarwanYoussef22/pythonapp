{
 "cells": [
  {
   "cell_type": "code",
   "execution_count": 9,
   "id": "8112c322",
   "metadata": {},
   "outputs": [
    {
     "name": "stdout",
     "output_type": "stream",
     "text": [
      "               timestamp  unit_id           unit_type empire_or_resistance  \\\n",
      "0    2023-10-10 09:36:09        1  resistance_soldier               empire   \n",
      "1    2023-10-10 09:36:08        2               at-at               empire   \n",
      "2    2023-10-10 09:36:07        3         tie_fighter               empire   \n",
      "3    2023-10-10 09:36:06        4               at-st               empire   \n",
      "4    2023-10-10 09:36:05        5              x-wing           resistance   \n",
      "..                   ...      ...                 ...                  ...   \n",
      "995  2023-10-10 09:19:34      996              x-wing               empire   \n",
      "996  2023-10-10 09:19:33      997  resistance_soldier           resistance   \n",
      "997  2023-10-10 09:19:32      998              x-wing               empire   \n",
      "998  2023-10-10 09:19:31      999         tie_fighter           resistance   \n",
      "999  2023-10-10 09:19:30     1000        stormtrooper               empire   \n",
      "\n",
      "     location_x  location_y  destination_x  destination_y    homeworld  \n",
      "0             8           6             10              3      Serenno  \n",
      "1             6           1             10              1      Sullust  \n",
      "2             7           5              2              1   Muunilinst  \n",
      "3             8           8              9              4        Kalee  \n",
      "4             1           3              5              2      Troiken  \n",
      "..          ...         ...            ...            ...          ...  \n",
      "995           1           3              1              7      Iktotch  \n",
      "996           6           8              7              4         Ojom  \n",
      "997           7           8             10              7        Skako  \n",
      "998           8           4              6              2     Champala  \n",
      "999           3           9              7              8  Glee Anselm  \n",
      "\n",
      "[1000 rows x 9 columns]\n"
     ]
    },
    {
     "name": "stderr",
     "output_type": "stream",
     "text": [
      "C:\\Users\\wasadmin\\AppData\\Local\\Temp\\2\\ipykernel_4284\\405831955.py:7: FutureWarning: The default value of numeric_only in DataFrameGroupBy.sum is deprecated. In a future version, numeric_only will default to False. Either specify numeric_only or select only columns which should be valid for the function.\n",
      "  empire_resistance_group = df.groupby(['empire_or_resistance']).sum()\n"
     ]
    },
    {
     "ename": "AttributeError",
     "evalue": "'DataFrame' object has no attribute 'show'",
     "output_type": "error",
     "traceback": [
      "\u001b[1;31m---------------------------------------------------------------------------\u001b[0m",
      "\u001b[1;31mAttributeError\u001b[0m                            Traceback (most recent call last)",
      "Cell \u001b[1;32mIn[9], line 9\u001b[0m\n\u001b[0;32m      5\u001b[0m \u001b[38;5;28mprint\u001b[39m(dataSet)\n\u001b[0;32m      7\u001b[0m empire_resistance_group \u001b[38;5;241m=\u001b[39m df\u001b[38;5;241m.\u001b[39mgroupby([\u001b[38;5;124m'\u001b[39m\u001b[38;5;124mempire_or_resistance\u001b[39m\u001b[38;5;124m'\u001b[39m])\u001b[38;5;241m.\u001b[39msum()\n\u001b[1;32m----> 9\u001b[0m \u001b[43mempire_resistance_group\u001b[49m\u001b[38;5;241;43m.\u001b[39;49m\u001b[43mshow\u001b[49m()\n",
      "File \u001b[1;32m~\\anaconda3\\lib\\site-packages\\pandas\\core\\generic.py:5902\u001b[0m, in \u001b[0;36mNDFrame.__getattr__\u001b[1;34m(self, name)\u001b[0m\n\u001b[0;32m   5895\u001b[0m \u001b[38;5;28;01mif\u001b[39;00m (\n\u001b[0;32m   5896\u001b[0m     name \u001b[38;5;129;01mnot\u001b[39;00m \u001b[38;5;129;01min\u001b[39;00m \u001b[38;5;28mself\u001b[39m\u001b[38;5;241m.\u001b[39m_internal_names_set\n\u001b[0;32m   5897\u001b[0m     \u001b[38;5;129;01mand\u001b[39;00m name \u001b[38;5;129;01mnot\u001b[39;00m \u001b[38;5;129;01min\u001b[39;00m \u001b[38;5;28mself\u001b[39m\u001b[38;5;241m.\u001b[39m_metadata\n\u001b[0;32m   5898\u001b[0m     \u001b[38;5;129;01mand\u001b[39;00m name \u001b[38;5;129;01mnot\u001b[39;00m \u001b[38;5;129;01min\u001b[39;00m \u001b[38;5;28mself\u001b[39m\u001b[38;5;241m.\u001b[39m_accessors\n\u001b[0;32m   5899\u001b[0m     \u001b[38;5;129;01mand\u001b[39;00m \u001b[38;5;28mself\u001b[39m\u001b[38;5;241m.\u001b[39m_info_axis\u001b[38;5;241m.\u001b[39m_can_hold_identifiers_and_holds_name(name)\n\u001b[0;32m   5900\u001b[0m ):\n\u001b[0;32m   5901\u001b[0m     \u001b[38;5;28;01mreturn\u001b[39;00m \u001b[38;5;28mself\u001b[39m[name]\n\u001b[1;32m-> 5902\u001b[0m \u001b[38;5;28;01mreturn\u001b[39;00m \u001b[38;5;28;43mobject\u001b[39;49m\u001b[38;5;241;43m.\u001b[39;49m\u001b[38;5;21;43m__getattribute__\u001b[39;49m\u001b[43m(\u001b[49m\u001b[38;5;28;43mself\u001b[39;49m\u001b[43m,\u001b[49m\u001b[43m \u001b[49m\u001b[43mname\u001b[49m\u001b[43m)\u001b[49m\n",
      "\u001b[1;31mAttributeError\u001b[0m: 'DataFrame' object has no attribute 'show'"
     ]
    }
   ],
   "source": [
    "import pandas as pd\n",
    "#import numpy as np\n",
    "\n",
    "df  = pd.read_csv('troop_movements.csv');\n",
    "print(dataSet)\n",
    "\n",
    "#empire_resistance_group = df.groupby(['empire_or_resistance']).sum()\n",
    "\n",
    "#empire_resistance_group.show()"
   ]
  },
  {
   "cell_type": "code",
   "execution_count": null,
   "id": "6c53052b",
   "metadata": {},
   "outputs": [],
   "source": []
  }
 ],
 "metadata": {
  "kernelspec": {
   "display_name": "Python 3 (ipykernel)",
   "language": "python",
   "name": "python3"
  },
  "language_info": {
   "codemirror_mode": {
    "name": "ipython",
    "version": 3
   },
   "file_extension": ".py",
   "mimetype": "text/x-python",
   "name": "python",
   "nbconvert_exporter": "python",
   "pygments_lexer": "ipython3",
   "version": "3.10.9"
  }
 },
 "nbformat": 4,
 "nbformat_minor": 5
}
