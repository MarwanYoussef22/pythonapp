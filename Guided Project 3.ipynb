{
 "cells": [
  {
   "cell_type": "code",
   "execution_count": 19,
   "id": "8112c322",
   "metadata": {},
   "outputs": [
    {
     "name": "stdout",
     "output_type": "stream",
     "text": [
      "<class 'pandas.core.frame.DataFrame'>\n",
      "               timestamp  unit_id           unit_type empire_or_resistance  \\\n",
      "0    2023-10-10 09:36:09        1  resistance_soldier               empire   \n",
      "1    2023-10-10 09:36:08        2               at-at               empire   \n",
      "2    2023-10-10 09:36:07        3         tie_fighter               empire   \n",
      "3    2023-10-10 09:36:06        4               at-st               empire   \n",
      "4    2023-10-10 09:36:05        5              x-wing           resistance   \n",
      "..                   ...      ...                 ...                  ...   \n",
      "995  2023-10-10 09:19:34      996              x-wing               empire   \n",
      "996  2023-10-10 09:19:33      997  resistance_soldier           resistance   \n",
      "997  2023-10-10 09:19:32      998              x-wing               empire   \n",
      "998  2023-10-10 09:19:31      999         tie_fighter           resistance   \n",
      "999  2023-10-10 09:19:30     1000        stormtrooper               empire   \n",
      "\n",
      "     location_x  location_y  destination_x  destination_y    homeworld  \n",
      "0             8           6             10              3      Serenno  \n",
      "1             6           1             10              1      Sullust  \n",
      "2             7           5              2              1   Muunilinst  \n",
      "3             8           8              9              4        Kalee  \n",
      "4             1           3              5              2      Troiken  \n",
      "..          ...         ...            ...            ...          ...  \n",
      "995           1           3              1              7      Iktotch  \n",
      "996           6           8              7              4         Ojom  \n",
      "997           7           8             10              7        Skako  \n",
      "998           8           4              6              2     Champala  \n",
      "999           3           9              7              8  Glee Anselm  \n",
      "\n",
      "[1000 rows x 9 columns]\n"
     ]
    }
   ],
   "source": [
    "import pandas as pd\n",
    "#import numpy as np\n",
    "\n",
    "df  = pd.read_csv('troop_movements.csv')\n",
    "print(type(df))\n",
    "print(df)"
   ]
  },
  {
   "cell_type": "code",
   "execution_count": 23,
   "id": "6c53052b",
   "metadata": {},
   "outputs": [
    {
     "name": "stdout",
     "output_type": "stream",
     "text": [
      "resistance    505\n",
      "empire        495\n",
      "Name: empire_or_resistance, dtype: int64\n"
     ]
    }
   ],
   "source": [
    "empire_resistance_count = df['empire_or_resistance'].value_counts()\n",
    "\n",
    "print(empire_resistance_count)"
   ]
  },
  {
   "cell_type": "code",
   "execution_count": 24,
   "id": "570a7467",
   "metadata": {},
   "outputs": [
    {
     "name": "stdout",
     "output_type": "stream",
     "text": [
      "Haruun Kal      33\n",
      "Trandosha       33\n",
      "Rodia           32\n",
      "Malastare       30\n",
      "Naboo           28\n",
      "Troiken         28\n",
      "Dathomir        28\n",
      "Toydaria        27\n",
      "Dagobah         27\n",
      "Mon Cala        26\n",
      "Corellia        26\n",
      "Dorin           26\n",
      "Aleen Minor     26\n",
      "Socorro         25\n",
      "Iridonia        25\n",
      "Shili           24\n",
      "Quermia         24\n",
      "Vulpter         24\n",
      "Umbara          24\n",
      "Champala        24\n",
      "Sullust         24\n",
      "Zolan           24\n",
      "Cerea           24\n",
      "Alderaan        24\n",
      "Skako           24\n",
      "Kalee           23\n",
      "Iktotch         23\n",
      "Tund            23\n",
      "Serenno         23\n",
      "Tholoth         22\n",
      "Chandrila       22\n",
      "Ojom            22\n",
      "Ryloth          21\n",
      "Kashyyyk        21\n",
      "Glee Anselm     21\n",
      "Eriadu          20\n",
      "Muunilinst      20\n",
      "Tatooine        19\n",
      "Mirial          18\n",
      "Bestine IV      17\n",
      "Concord Dawn    14\n",
      "Stewjon         11\n",
      "Name: homeworld, dtype: int64\n"
     ]
    }
   ],
   "source": [
    "homeworld_count = df['homeworld'].value_counts()\n",
    "\n",
    "print(homeworld_count)"
   ]
  },
  {
   "cell_type": "code",
   "execution_count": 25,
   "id": "b16ce8dd",
   "metadata": {},
   "outputs": [
    {
     "name": "stdout",
     "output_type": "stream",
     "text": [
      "tie_silencer          137\n",
      "resistance_soldier    134\n",
      "unknown               133\n",
      "stormtrooper          122\n",
      "tie_fighter           121\n",
      "at-at                 120\n",
      "x-wing                117\n",
      "at-st                 116\n",
      "Name: unit_type, dtype: int64\n"
     ]
    }
   ],
   "source": [
    "unit_type_count = df['unit_type'].value_counts()\n",
    "\n",
    "print(unit_type_count)"
   ]
  },
  {
   "cell_type": "code",
   "execution_count": 28,
   "id": "4eef792f",
   "metadata": {},
   "outputs": [
    {
     "name": "stdout",
     "output_type": "stream",
     "text": [
      "               timestamp  unit_id           unit_type empire_or_resistance  \\\n",
      "0    2023-10-10 09:36:09        1  resistance_soldier               empire   \n",
      "1    2023-10-10 09:36:08        2               at-at               empire   \n",
      "2    2023-10-10 09:36:07        3         tie_fighter               empire   \n",
      "3    2023-10-10 09:36:06        4               at-st               empire   \n",
      "4    2023-10-10 09:36:05        5              x-wing           resistance   \n",
      "..                   ...      ...                 ...                  ...   \n",
      "995  2023-10-10 09:19:34      996              x-wing               empire   \n",
      "996  2023-10-10 09:19:33      997  resistance_soldier           resistance   \n",
      "997  2023-10-10 09:19:32      998              x-wing               empire   \n",
      "998  2023-10-10 09:19:31      999         tie_fighter           resistance   \n",
      "999  2023-10-10 09:19:30     1000        stormtrooper               empire   \n",
      "\n",
      "     location_x  location_y  destination_x  destination_y    homeworld  \\\n",
      "0             8           6             10              3      Serenno   \n",
      "1             6           1             10              1      Sullust   \n",
      "2             7           5              2              1   Muunilinst   \n",
      "3             8           8              9              4        Kalee   \n",
      "4             1           3              5              2      Troiken   \n",
      "..          ...         ...            ...            ...          ...   \n",
      "995           1           3              1              7      Iktotch   \n",
      "996           6           8              7              4         Ojom   \n",
      "997           7           8             10              7        Skako   \n",
      "998           8           4              6              2     Champala   \n",
      "999           3           9              7              8  Glee Anselm   \n",
      "\n",
      "    is_resistance  \n",
      "0           False  \n",
      "1           False  \n",
      "2           False  \n",
      "3           False  \n",
      "4            True  \n",
      "..            ...  \n",
      "995         False  \n",
      "996          True  \n",
      "997         False  \n",
      "998          True  \n",
      "999         False  \n",
      "\n",
      "[1000 rows x 10 columns]\n"
     ]
    }
   ],
   "source": [
    "#df['is_resistance'] = df.empire_or_resistance.map(lambda c: 'True' if c == 'resistance' else 'False')\n",
    "df['is_resistance'] = df.empire_or_resistance.apply(lambda c: 'True' if c == 'resistance' else 'False')\n",
    "print(df)"
   ]
  },
  {
   "cell_type": "code",
   "execution_count": null,
   "id": "dde382f6",
   "metadata": {},
   "outputs": [],
   "source": []
  }
 ],
 "metadata": {
  "kernelspec": {
   "display_name": "Python 3 (ipykernel)",
   "language": "python",
   "name": "python3"
  },
  "language_info": {
   "codemirror_mode": {
    "name": "ipython",
    "version": 3
   },
   "file_extension": ".py",
   "mimetype": "text/x-python",
   "name": "python",
   "nbconvert_exporter": "python",
   "pygments_lexer": "ipython3",
   "version": "3.10.9"
  }
 },
 "nbformat": 4,
 "nbformat_minor": 5
}
