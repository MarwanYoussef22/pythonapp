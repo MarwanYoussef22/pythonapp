{
 "cells": [
  {
   "cell_type": "code",
   "execution_count": 4,
   "id": "eac90420",
   "metadata": {},
   "outputs": [
    {
     "name": "stdout",
     "output_type": "stream",
     "text": [
      "                   timestamp   unit_id           unit_type  location_x  \\\n",
      "0        2023-06-13 17:33:18         1               at-st         2.0   \n",
      "1        2023-06-13 17:33:17         2        tie_silencer         4.0   \n",
      "2        2023-06-13 17:33:16         3               at-at         0.0   \n",
      "3        2023-06-13 17:33:15         4        tie_silencer         6.0   \n",
      "4        2023-06-13 17:33:14         5         tie_fighter         0.0   \n",
      "...                      ...       ...                 ...         ...   \n",
      "9999995  2023-02-18 10:26:20   9999996  resistance_soldier         6.0   \n",
      "9999996  2023-02-18 10:26:19   9999997        tie_silencer         8.0   \n",
      "9999997  2023-02-18 10:26:18   9999998         tie_fighter         7.0   \n",
      "9999998  2023-02-18 10:26:17   9999999         tie_fighter         6.0   \n",
      "9999999  2023-02-18 10:26:16  10000000             unknown         6.0   \n",
      "\n",
      "         location_y  destination_x  destination_y    homeworld  \n",
      "0               8.0              1              1  Glee Anselm  \n",
      "1               4.0              0              1    Trandosha  \n",
      "2               3.0              6              1     Corellia  \n",
      "3               1.0              6              9        Shili  \n",
      "4               4.0              9              6   Muunilinst  \n",
      "...             ...            ...            ...          ...  \n",
      "9999995         6.0              1              3      Troiken  \n",
      "9999996         6.0              2              0     Kashyyyk  \n",
      "9999997         7.0              6              4     Kashyyyk  \n",
      "9999998         6.0              8              8        Kalee  \n",
      "9999999         6.0              3              0        Skako  \n",
      "\n",
      "[10000000 rows x 8 columns]\n"
     ]
    }
   ],
   "source": [
    "import pandas as pd\n",
    "import pyarrow.parquet as pa\n",
    "#import numpy as np\n",
    "\n",
    "model  = pd.read_pickle('trained_model.pkl')\n",
    "data = pa.read_table('troop_movements10m.parquet')\n",
    "data.shape\n",
    "df=data.to_pandas()\n",
    "df.head().T"
   ]
  },
  {
   "cell_type": "code",
   "execution_count": 14,
   "id": "e17dc254",
   "metadata": {},
   "outputs": [
    {
     "name": "stdout",
     "output_type": "stream",
     "text": [
      "         homeworld_Alderaan  homeworld_Aleen Minor  homeworld_Bestine IV  \\\n",
      "0                         0                      0                     0   \n",
      "1                         0                      0                     0   \n",
      "2                         0                      0                     0   \n",
      "3                         0                      0                     0   \n",
      "4                         0                      0                     0   \n",
      "...                     ...                    ...                   ...   \n",
      "9999995                   0                      0                     0   \n",
      "9999996                   0                      0                     0   \n",
      "9999997                   0                      0                     0   \n",
      "9999998                   0                      0                     0   \n",
      "9999999                   0                      0                     0   \n",
      "\n",
      "         homeworld_Cerea  homeworld_Champala  homeworld_Chandrila  \\\n",
      "0                      0                   0                    0   \n",
      "1                      0                   0                    0   \n",
      "2                      0                   0                    0   \n",
      "3                      0                   0                    0   \n",
      "4                      0                   0                    0   \n",
      "...                  ...                 ...                  ...   \n",
      "9999995                0                   0                    0   \n",
      "9999996                0                   0                    0   \n",
      "9999997                0                   0                    0   \n",
      "9999998                0                   0                    0   \n",
      "9999999                0                   0                    0   \n",
      "\n",
      "         homeworld_Concord Dawn  homeworld_Corellia  homeworld_Dagobah  \\\n",
      "0                             0                   0                  0   \n",
      "1                             0                   0                  0   \n",
      "2                             0                   1                  0   \n",
      "3                             0                   0                  0   \n",
      "4                             0                   0                  0   \n",
      "...                         ...                 ...                ...   \n",
      "9999995                       0                   0                  0   \n",
      "9999996                       0                   0                  0   \n",
      "9999997                       0                   0                  0   \n",
      "9999998                       0                   0                  0   \n",
      "9999999                       0                   0                  0   \n",
      "\n",
      "         homeworld_Dathomir  ...  homeworld_Vulpter  homeworld_Zolan  \\\n",
      "0                         0  ...                  0                0   \n",
      "1                         0  ...                  0                0   \n",
      "2                         0  ...                  0                0   \n",
      "3                         0  ...                  0                0   \n",
      "4                         0  ...                  0                0   \n",
      "...                     ...  ...                ...              ...   \n",
      "9999995                   0  ...                  0                0   \n",
      "9999996                   0  ...                  0                0   \n",
      "9999997                   0  ...                  0                0   \n",
      "9999998                   0  ...                  0                0   \n",
      "9999999                   0  ...                  0                0   \n",
      "\n",
      "         unit_type_at-at  unit_type_at-st  unit_type_resistance_soldier  \\\n",
      "0                      0                1                             0   \n",
      "1                      0                0                             0   \n",
      "2                      1                0                             0   \n",
      "3                      0                0                             0   \n",
      "4                      0                0                             0   \n",
      "...                  ...              ...                           ...   \n",
      "9999995                0                0                             1   \n",
      "9999996                0                0                             0   \n",
      "9999997                0                0                             0   \n",
      "9999998                0                0                             0   \n",
      "9999999                0                0                             0   \n",
      "\n",
      "         unit_type_stormtrooper  unit_type_tie_fighter  \\\n",
      "0                             0                      0   \n",
      "1                             0                      0   \n",
      "2                             0                      0   \n",
      "3                             0                      0   \n",
      "4                             0                      1   \n",
      "...                         ...                    ...   \n",
      "9999995                       0                      0   \n",
      "9999996                       0                      0   \n",
      "9999997                       0                      1   \n",
      "9999998                       0                      1   \n",
      "9999999                       0                      0   \n",
      "\n",
      "         unit_type_tie_silencer  unit_type_unknown  unit_type_x-wing  \n",
      "0                             0                  0                 0  \n",
      "1                             1                  0                 0  \n",
      "2                             0                  0                 0  \n",
      "3                             1                  0                 0  \n",
      "4                             0                  0                 0  \n",
      "...                         ...                ...               ...  \n",
      "9999995                       0                  0                 0  \n",
      "9999996                       1                  0                 0  \n",
      "9999997                       0                  0                 0  \n",
      "9999998                       0                  0                 0  \n",
      "9999999                       0                  1                 0  \n",
      "\n",
      "[10000000 rows x 50 columns]\n"
     ]
    }
   ],
   "source": [
    "#df['is_resistance'] = df.empire_or_resistance.apply(lambda c: 'True' if c == 'resistance' else 'False')\n",
    "#X = df[['homeworld', 'unit_type']]\n",
    "#Y_pred = clf.predict(X_test)\n",
    "X = df[['homeworld', \"unit_type\"]]\n",
    "X_encoded = pd.get_dummies(X)\n",
    "print(X_encoded)"
   ]
  },
  {
   "cell_type": "code",
   "execution_count": 15,
   "id": "3f010d82",
   "metadata": {},
   "outputs": [
    {
     "name": "stdout",
     "output_type": "stream",
     "text": [
      "['resistance' 'resistance' 'empire' ... 'resistance' 'resistance'\n",
      " 'resistance']\n"
     ]
    }
   ],
   "source": [
    "Y_predictions = model.predict(X_encoded)\n",
    "print(Y_predictions)"
   ]
  },
  {
   "cell_type": "code",
   "execution_count": 17,
   "id": "95e33dd0",
   "metadata": {},
   "outputs": [
    {
     "name": "stdout",
     "output_type": "stream",
     "text": [
      "                   timestamp   unit_id           unit_type  location_x  \\\n",
      "0        2023-06-13 17:33:18         1               at-st         2.0   \n",
      "1        2023-06-13 17:33:17         2        tie_silencer         4.0   \n",
      "2        2023-06-13 17:33:16         3               at-at         0.0   \n",
      "3        2023-06-13 17:33:15         4        tie_silencer         6.0   \n",
      "4        2023-06-13 17:33:14         5         tie_fighter         0.0   \n",
      "...                      ...       ...                 ...         ...   \n",
      "9999995  2023-02-18 10:26:20   9999996  resistance_soldier         6.0   \n",
      "9999996  2023-02-18 10:26:19   9999997        tie_silencer         8.0   \n",
      "9999997  2023-02-18 10:26:18   9999998         tie_fighter         7.0   \n",
      "9999998  2023-02-18 10:26:17   9999999         tie_fighter         6.0   \n",
      "9999999  2023-02-18 10:26:16  10000000             unknown         6.0   \n",
      "\n",
      "         location_y  destination_x  destination_y    homeworld predictions  \n",
      "0               8.0              1              1  Glee Anselm        True  \n",
      "1               4.0              0              1    Trandosha        True  \n",
      "2               3.0              6              1     Corellia       False  \n",
      "3               1.0              6              9        Shili       False  \n",
      "4               4.0              9              6   Muunilinst       False  \n",
      "...             ...            ...            ...          ...         ...  \n",
      "9999995         6.0              1              3      Troiken        True  \n",
      "9999996         6.0              2              0     Kashyyyk       False  \n",
      "9999997         7.0              6              4     Kashyyyk        True  \n",
      "9999998         6.0              8              8        Kalee        True  \n",
      "9999999         6.0              3              0        Skako        True  \n",
      "\n",
      "[10000000 rows x 9 columns]\n"
     ]
    }
   ],
   "source": [
    "#df['predictions']=Y_predictions.map(lambda c: 'True'if c == 'resistance' else 'False')\n",
    "df['predictions']=model.predict(X_encoded)\n",
    "df['predictions']=df['predictions'].map(lambda c: 'True'if c == 'resistance' else 'False')\n",
    "print(df)"
   ]
  },
  {
   "cell_type": "code",
   "execution_count": 13,
   "id": "8cf43eef",
   "metadata": {},
   "outputs": [
    {
     "ename": "KeyError",
     "evalue": "'homeworld'",
     "output_type": "error",
     "traceback": [
      "\u001b[1;31m---------------------------------------------------------------------------\u001b[0m",
      "\u001b[1;31mKeyError\u001b[0m                                  Traceback (most recent call last)",
      "File \u001b[1;32m~\\anaconda3\\lib\\site-packages\\pandas\\core\\indexes\\base.py:3802\u001b[0m, in \u001b[0;36mIndex.get_loc\u001b[1;34m(self, key, method, tolerance)\u001b[0m\n\u001b[0;32m   3801\u001b[0m \u001b[38;5;28;01mtry\u001b[39;00m:\n\u001b[1;32m-> 3802\u001b[0m     \u001b[38;5;28;01mreturn\u001b[39;00m \u001b[38;5;28;43mself\u001b[39;49m\u001b[38;5;241;43m.\u001b[39;49m\u001b[43m_engine\u001b[49m\u001b[38;5;241;43m.\u001b[39;49m\u001b[43mget_loc\u001b[49m\u001b[43m(\u001b[49m\u001b[43mcasted_key\u001b[49m\u001b[43m)\u001b[49m\n\u001b[0;32m   3803\u001b[0m \u001b[38;5;28;01mexcept\u001b[39;00m \u001b[38;5;167;01mKeyError\u001b[39;00m \u001b[38;5;28;01mas\u001b[39;00m err:\n",
      "File \u001b[1;32m~\\anaconda3\\lib\\site-packages\\pandas\\_libs\\index.pyx:138\u001b[0m, in \u001b[0;36mpandas._libs.index.IndexEngine.get_loc\u001b[1;34m()\u001b[0m\n",
      "File \u001b[1;32m~\\anaconda3\\lib\\site-packages\\pandas\\_libs\\index.pyx:165\u001b[0m, in \u001b[0;36mpandas._libs.index.IndexEngine.get_loc\u001b[1;34m()\u001b[0m\n",
      "File \u001b[1;32mpandas\\_libs\\hashtable_class_helper.pxi:5745\u001b[0m, in \u001b[0;36mpandas._libs.hashtable.PyObjectHashTable.get_item\u001b[1;34m()\u001b[0m\n",
      "File \u001b[1;32mpandas\\_libs\\hashtable_class_helper.pxi:5753\u001b[0m, in \u001b[0;36mpandas._libs.hashtable.PyObjectHashTable.get_item\u001b[1;34m()\u001b[0m\n",
      "\u001b[1;31mKeyError\u001b[0m: 'homeworld'",
      "\nThe above exception was the direct cause of the following exception:\n",
      "\u001b[1;31mKeyError\u001b[0m                                  Traceback (most recent call last)",
      "Cell \u001b[1;32mIn[13], line 1\u001b[0m\n\u001b[1;32m----> 1\u001b[0m df[\u001b[38;5;124m'\u001b[39m\u001b[38;5;124mpredictions\u001b[39m\u001b[38;5;124m'\u001b[39m]\u001b[38;5;241m=\u001b[39m\u001b[43mX_encoded\u001b[49m\u001b[38;5;241;43m.\u001b[39;49m\u001b[43mapply\u001b[49m\u001b[43m(\u001b[49m\u001b[38;5;28;43;01mlambda\u001b[39;49;00m\u001b[43m \u001b[49m\u001b[43mrow\u001b[49m\u001b[43m:\u001b[49m\u001b[43m \u001b[49m\u001b[38;5;124;43m'\u001b[39;49m\u001b[38;5;124;43mTrue\u001b[39;49m\u001b[38;5;124;43m'\u001b[39;49m\u001b[43m \u001b[49m\u001b[38;5;28;43;01mif\u001b[39;49;00m\u001b[43m \u001b[49m\u001b[43mmodel\u001b[49m\u001b[38;5;241;43m.\u001b[39;49m\u001b[43mpredict\u001b[49m\u001b[43m(\u001b[49m\u001b[43m[\u001b[49m\u001b[43m[\u001b[49m\u001b[43mrow\u001b[49m\u001b[43m[\u001b[49m\u001b[38;5;124;43m'\u001b[39;49m\u001b[38;5;124;43mhomeworld\u001b[39;49m\u001b[38;5;124;43m'\u001b[39;49m\u001b[43m]\u001b[49m\u001b[43m,\u001b[49m\u001b[43m \u001b[49m\u001b[43mrow\u001b[49m\u001b[43m[\u001b[49m\u001b[38;5;124;43m'\u001b[39;49m\u001b[38;5;124;43munit_type\u001b[39;49m\u001b[38;5;124;43m'\u001b[39;49m\u001b[43m]\u001b[49m\u001b[43m]\u001b[49m\u001b[43m]\u001b[49m\u001b[43m)\u001b[49m\u001b[43m \u001b[49m\u001b[43m[\u001b[49m\u001b[38;5;241;43m0\u001b[39;49m\u001b[43m]\u001b[49m\u001b[43m \u001b[49m\u001b[38;5;241;43m==\u001b[39;49m\u001b[43m \u001b[49m\u001b[38;5;124;43m'\u001b[39;49m\u001b[38;5;124;43mresistance\u001b[39;49m\u001b[38;5;124;43m'\u001b[39;49m\u001b[43m \u001b[49m\u001b[38;5;28;43;01melse\u001b[39;49;00m\u001b[43m \u001b[49m\u001b[38;5;124;43m'\u001b[39;49m\u001b[38;5;124;43mFalse\u001b[39;49m\u001b[38;5;124;43m'\u001b[39;49m\u001b[43m,\u001b[49m\u001b[43m \u001b[49m\u001b[43maxis\u001b[49m\u001b[43m \u001b[49m\u001b[38;5;241;43m=\u001b[39;49m\u001b[38;5;241;43m1\u001b[39;49m\u001b[43m)\u001b[49m\n\u001b[0;32m      2\u001b[0m \u001b[38;5;28mprint\u001b[39m(df)\n",
      "File \u001b[1;32m~\\anaconda3\\lib\\site-packages\\pandas\\core\\frame.py:9568\u001b[0m, in \u001b[0;36mDataFrame.apply\u001b[1;34m(self, func, axis, raw, result_type, args, **kwargs)\u001b[0m\n\u001b[0;32m   9557\u001b[0m \u001b[38;5;28;01mfrom\u001b[39;00m \u001b[38;5;21;01mpandas\u001b[39;00m\u001b[38;5;21;01m.\u001b[39;00m\u001b[38;5;21;01mcore\u001b[39;00m\u001b[38;5;21;01m.\u001b[39;00m\u001b[38;5;21;01mapply\u001b[39;00m \u001b[38;5;28;01mimport\u001b[39;00m frame_apply\n\u001b[0;32m   9559\u001b[0m op \u001b[38;5;241m=\u001b[39m frame_apply(\n\u001b[0;32m   9560\u001b[0m     \u001b[38;5;28mself\u001b[39m,\n\u001b[0;32m   9561\u001b[0m     func\u001b[38;5;241m=\u001b[39mfunc,\n\u001b[1;32m   (...)\u001b[0m\n\u001b[0;32m   9566\u001b[0m     kwargs\u001b[38;5;241m=\u001b[39mkwargs,\n\u001b[0;32m   9567\u001b[0m )\n\u001b[1;32m-> 9568\u001b[0m \u001b[38;5;28;01mreturn\u001b[39;00m \u001b[43mop\u001b[49m\u001b[38;5;241;43m.\u001b[39;49m\u001b[43mapply\u001b[49m\u001b[43m(\u001b[49m\u001b[43m)\u001b[49m\u001b[38;5;241m.\u001b[39m__finalize__(\u001b[38;5;28mself\u001b[39m, method\u001b[38;5;241m=\u001b[39m\u001b[38;5;124m\"\u001b[39m\u001b[38;5;124mapply\u001b[39m\u001b[38;5;124m\"\u001b[39m)\n",
      "File \u001b[1;32m~\\anaconda3\\lib\\site-packages\\pandas\\core\\apply.py:764\u001b[0m, in \u001b[0;36mFrameApply.apply\u001b[1;34m(self)\u001b[0m\n\u001b[0;32m    761\u001b[0m \u001b[38;5;28;01melif\u001b[39;00m \u001b[38;5;28mself\u001b[39m\u001b[38;5;241m.\u001b[39mraw:\n\u001b[0;32m    762\u001b[0m     \u001b[38;5;28;01mreturn\u001b[39;00m \u001b[38;5;28mself\u001b[39m\u001b[38;5;241m.\u001b[39mapply_raw()\n\u001b[1;32m--> 764\u001b[0m \u001b[38;5;28;01mreturn\u001b[39;00m \u001b[38;5;28;43mself\u001b[39;49m\u001b[38;5;241;43m.\u001b[39;49m\u001b[43mapply_standard\u001b[49m\u001b[43m(\u001b[49m\u001b[43m)\u001b[49m\n",
      "File \u001b[1;32m~\\anaconda3\\lib\\site-packages\\pandas\\core\\apply.py:891\u001b[0m, in \u001b[0;36mFrameApply.apply_standard\u001b[1;34m(self)\u001b[0m\n\u001b[0;32m    890\u001b[0m \u001b[38;5;28;01mdef\u001b[39;00m \u001b[38;5;21mapply_standard\u001b[39m(\u001b[38;5;28mself\u001b[39m):\n\u001b[1;32m--> 891\u001b[0m     results, res_index \u001b[38;5;241m=\u001b[39m \u001b[38;5;28;43mself\u001b[39;49m\u001b[38;5;241;43m.\u001b[39;49m\u001b[43mapply_series_generator\u001b[49m\u001b[43m(\u001b[49m\u001b[43m)\u001b[49m\n\u001b[0;32m    893\u001b[0m     \u001b[38;5;66;03m# wrap results\u001b[39;00m\n\u001b[0;32m    894\u001b[0m     \u001b[38;5;28;01mreturn\u001b[39;00m \u001b[38;5;28mself\u001b[39m\u001b[38;5;241m.\u001b[39mwrap_results(results, res_index)\n",
      "File \u001b[1;32m~\\anaconda3\\lib\\site-packages\\pandas\\core\\apply.py:907\u001b[0m, in \u001b[0;36mFrameApply.apply_series_generator\u001b[1;34m(self)\u001b[0m\n\u001b[0;32m    904\u001b[0m \u001b[38;5;28;01mwith\u001b[39;00m option_context(\u001b[38;5;124m\"\u001b[39m\u001b[38;5;124mmode.chained_assignment\u001b[39m\u001b[38;5;124m\"\u001b[39m, \u001b[38;5;28;01mNone\u001b[39;00m):\n\u001b[0;32m    905\u001b[0m     \u001b[38;5;28;01mfor\u001b[39;00m i, v \u001b[38;5;129;01min\u001b[39;00m \u001b[38;5;28menumerate\u001b[39m(series_gen):\n\u001b[0;32m    906\u001b[0m         \u001b[38;5;66;03m# ignore SettingWithCopy here in case the user mutates\u001b[39;00m\n\u001b[1;32m--> 907\u001b[0m         results[i] \u001b[38;5;241m=\u001b[39m \u001b[38;5;28;43mself\u001b[39;49m\u001b[38;5;241;43m.\u001b[39;49m\u001b[43mf\u001b[49m\u001b[43m(\u001b[49m\u001b[43mv\u001b[49m\u001b[43m)\u001b[49m\n\u001b[0;32m    908\u001b[0m         \u001b[38;5;28;01mif\u001b[39;00m \u001b[38;5;28misinstance\u001b[39m(results[i], ABCSeries):\n\u001b[0;32m    909\u001b[0m             \u001b[38;5;66;03m# If we have a view on v, we need to make a copy because\u001b[39;00m\n\u001b[0;32m    910\u001b[0m             \u001b[38;5;66;03m#  series_generator will swap out the underlying data\u001b[39;00m\n\u001b[0;32m    911\u001b[0m             results[i] \u001b[38;5;241m=\u001b[39m results[i]\u001b[38;5;241m.\u001b[39mcopy(deep\u001b[38;5;241m=\u001b[39m\u001b[38;5;28;01mFalse\u001b[39;00m)\n",
      "Cell \u001b[1;32mIn[13], line 1\u001b[0m, in \u001b[0;36m<lambda>\u001b[1;34m(row)\u001b[0m\n\u001b[1;32m----> 1\u001b[0m df[\u001b[38;5;124m'\u001b[39m\u001b[38;5;124mpredictions\u001b[39m\u001b[38;5;124m'\u001b[39m]\u001b[38;5;241m=\u001b[39mX_encoded\u001b[38;5;241m.\u001b[39mapply(\u001b[38;5;28;01mlambda\u001b[39;00m row: \u001b[38;5;124m'\u001b[39m\u001b[38;5;124mTrue\u001b[39m\u001b[38;5;124m'\u001b[39m \u001b[38;5;28;01mif\u001b[39;00m model\u001b[38;5;241m.\u001b[39mpredict([[\u001b[43mrow\u001b[49m\u001b[43m[\u001b[49m\u001b[38;5;124;43m'\u001b[39;49m\u001b[38;5;124;43mhomeworld\u001b[39;49m\u001b[38;5;124;43m'\u001b[39;49m\u001b[43m]\u001b[49m, row[\u001b[38;5;124m'\u001b[39m\u001b[38;5;124munit_type\u001b[39m\u001b[38;5;124m'\u001b[39m]]]) [\u001b[38;5;241m0\u001b[39m] \u001b[38;5;241m==\u001b[39m \u001b[38;5;124m'\u001b[39m\u001b[38;5;124mresistance\u001b[39m\u001b[38;5;124m'\u001b[39m \u001b[38;5;28;01melse\u001b[39;00m \u001b[38;5;124m'\u001b[39m\u001b[38;5;124mFalse\u001b[39m\u001b[38;5;124m'\u001b[39m, axis \u001b[38;5;241m=\u001b[39m\u001b[38;5;241m1\u001b[39m)\n\u001b[0;32m      2\u001b[0m \u001b[38;5;28mprint\u001b[39m(df)\n",
      "File \u001b[1;32m~\\anaconda3\\lib\\site-packages\\pandas\\core\\series.py:981\u001b[0m, in \u001b[0;36mSeries.__getitem__\u001b[1;34m(self, key)\u001b[0m\n\u001b[0;32m    978\u001b[0m     \u001b[38;5;28;01mreturn\u001b[39;00m \u001b[38;5;28mself\u001b[39m\u001b[38;5;241m.\u001b[39m_values[key]\n\u001b[0;32m    980\u001b[0m \u001b[38;5;28;01melif\u001b[39;00m key_is_scalar:\n\u001b[1;32m--> 981\u001b[0m     \u001b[38;5;28;01mreturn\u001b[39;00m \u001b[38;5;28;43mself\u001b[39;49m\u001b[38;5;241;43m.\u001b[39;49m\u001b[43m_get_value\u001b[49m\u001b[43m(\u001b[49m\u001b[43mkey\u001b[49m\u001b[43m)\u001b[49m\n\u001b[0;32m    983\u001b[0m \u001b[38;5;28;01mif\u001b[39;00m is_hashable(key):\n\u001b[0;32m    984\u001b[0m     \u001b[38;5;66;03m# Otherwise index.get_value will raise InvalidIndexError\u001b[39;00m\n\u001b[0;32m    985\u001b[0m     \u001b[38;5;28;01mtry\u001b[39;00m:\n\u001b[0;32m    986\u001b[0m         \u001b[38;5;66;03m# For labels that don't resolve as scalars like tuples and frozensets\u001b[39;00m\n",
      "File \u001b[1;32m~\\anaconda3\\lib\\site-packages\\pandas\\core\\series.py:1089\u001b[0m, in \u001b[0;36mSeries._get_value\u001b[1;34m(self, label, takeable)\u001b[0m\n\u001b[0;32m   1086\u001b[0m     \u001b[38;5;28;01mreturn\u001b[39;00m \u001b[38;5;28mself\u001b[39m\u001b[38;5;241m.\u001b[39m_values[label]\n\u001b[0;32m   1088\u001b[0m \u001b[38;5;66;03m# Similar to Index.get_value, but we do not fall back to positional\u001b[39;00m\n\u001b[1;32m-> 1089\u001b[0m loc \u001b[38;5;241m=\u001b[39m \u001b[38;5;28;43mself\u001b[39;49m\u001b[38;5;241;43m.\u001b[39;49m\u001b[43mindex\u001b[49m\u001b[38;5;241;43m.\u001b[39;49m\u001b[43mget_loc\u001b[49m\u001b[43m(\u001b[49m\u001b[43mlabel\u001b[49m\u001b[43m)\u001b[49m\n\u001b[0;32m   1090\u001b[0m \u001b[38;5;28;01mreturn\u001b[39;00m \u001b[38;5;28mself\u001b[39m\u001b[38;5;241m.\u001b[39mindex\u001b[38;5;241m.\u001b[39m_get_values_for_loc(\u001b[38;5;28mself\u001b[39m, loc, label)\n",
      "File \u001b[1;32m~\\anaconda3\\lib\\site-packages\\pandas\\core\\indexes\\base.py:3804\u001b[0m, in \u001b[0;36mIndex.get_loc\u001b[1;34m(self, key, method, tolerance)\u001b[0m\n\u001b[0;32m   3802\u001b[0m     \u001b[38;5;28;01mreturn\u001b[39;00m \u001b[38;5;28mself\u001b[39m\u001b[38;5;241m.\u001b[39m_engine\u001b[38;5;241m.\u001b[39mget_loc(casted_key)\n\u001b[0;32m   3803\u001b[0m \u001b[38;5;28;01mexcept\u001b[39;00m \u001b[38;5;167;01mKeyError\u001b[39;00m \u001b[38;5;28;01mas\u001b[39;00m err:\n\u001b[1;32m-> 3804\u001b[0m     \u001b[38;5;28;01mraise\u001b[39;00m \u001b[38;5;167;01mKeyError\u001b[39;00m(key) \u001b[38;5;28;01mfrom\u001b[39;00m \u001b[38;5;21;01merr\u001b[39;00m\n\u001b[0;32m   3805\u001b[0m \u001b[38;5;28;01mexcept\u001b[39;00m \u001b[38;5;167;01mTypeError\u001b[39;00m:\n\u001b[0;32m   3806\u001b[0m     \u001b[38;5;66;03m# If we have a listlike key, _check_indexing_error will raise\u001b[39;00m\n\u001b[0;32m   3807\u001b[0m     \u001b[38;5;66;03m#  InvalidIndexError. Otherwise we fall through and re-raise\u001b[39;00m\n\u001b[0;32m   3808\u001b[0m     \u001b[38;5;66;03m#  the TypeError.\u001b[39;00m\n\u001b[0;32m   3809\u001b[0m     \u001b[38;5;28mself\u001b[39m\u001b[38;5;241m.\u001b[39m_check_indexing_error(key)\n",
      "\u001b[1;31mKeyError\u001b[0m: 'homeworld'"
     ]
    }
   ],
   "source": []
  },
  {
   "cell_type": "code",
   "execution_count": null,
   "id": "eee29b3f",
   "metadata": {},
   "outputs": [],
   "source": []
  }
 ],
 "metadata": {
  "kernelspec": {
   "display_name": "Python 3 (ipykernel)",
   "language": "python",
   "name": "python3"
  },
  "language_info": {
   "codemirror_mode": {
    "name": "ipython",
    "version": 3
   },
   "file_extension": ".py",
   "mimetype": "text/x-python",
   "name": "python",
   "nbconvert_exporter": "python",
   "pygments_lexer": "ipython3",
   "version": "3.10.9"
  }
 },
 "nbformat": 4,
 "nbformat_minor": 5
}
