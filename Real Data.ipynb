{
 "cells": [
  {
   "cell_type": "code",
   "execution_count": 2,
   "id": "7fc85ec3",
   "metadata": {},
   "outputs": [
    {
     "name": "stdout",
     "output_type": "stream",
     "text": [
      "<class 'pandas.core.frame.DataFrame'>\n"
     ]
    }
   ],
   "source": [
    "import pandas as pd\n",
    "#import numpy as np\n",
    "\n",
    "real_data  = pd.read_csv('troop_movements10m.csv')\n",
    "print(type(real_data))"
   ]
  },
  {
   "cell_type": "code",
   "execution_count": 3,
   "id": "bb714aec",
   "metadata": {},
   "outputs": [
    {
     "name": "stdout",
     "output_type": "stream",
     "text": [
      "                   timestamp   unit_id           unit_type  location_x  \\\n",
      "0        2023-06-13 17:33:18         1               at-st         2.0   \n",
      "1        2023-06-13 17:33:17         2        tie_silencer         4.0   \n",
      "2        2023-06-13 17:33:16         3               at-at         0.0   \n",
      "3        2023-06-13 17:33:15         4        tie_silencer         6.0   \n",
      "4        2023-06-13 17:33:14         5         tie_fighter         0.0   \n",
      "...                      ...       ...                 ...         ...   \n",
      "9999995  2023-02-18 10:26:20   9999996  resistance_soldier         6.0   \n",
      "9999996  2023-02-18 10:26:19   9999997        tie_silencer         8.0   \n",
      "9999997  2023-02-18 10:26:18   9999998         tie_fighter         7.0   \n",
      "9999998  2023-02-18 10:26:17   9999999         tie_fighter         6.0   \n",
      "9999999  2023-02-18 10:26:16  10000000        invalid_unit         NaN   \n",
      "\n",
      "         location_y  destination_x  destination_y    homeworld  \n",
      "0               8.0              1              1  Glee Anselm  \n",
      "1               4.0              0              1    Trandosha  \n",
      "2               3.0              6              1     Corellia  \n",
      "3               1.0              6              9        Shili  \n",
      "4               4.0              9              6   Muunilinst  \n",
      "...             ...            ...            ...          ...  \n",
      "9999995         6.0              1              3      Troiken  \n",
      "9999996         6.0              2              0     Kashyyyk  \n",
      "9999997         7.0              6              4     Kashyyyk  \n",
      "9999998         6.0              8              8        Kalee  \n",
      "9999999         NaN              3              0        Skako  \n",
      "\n",
      "[10000000 rows x 8 columns]\n"
     ]
    }
   ],
   "source": [
    "print(real_data)"
   ]
  },
  {
   "cell_type": "code",
   "execution_count": 6,
   "id": "38f0b090",
   "metadata": {},
   "outputs": [],
   "source": [
    "real_data.unit_type = real_data.unit_type.replace('invalid_unit','unknown')"
   ]
  },
  {
   "cell_type": "code",
   "execution_count": 12,
   "id": "26f006dd",
   "metadata": {},
   "outputs": [],
   "source": [
    "#real_data.location_x = real_data.location_x.ffill()\n",
    "real_data.location_y = real_data.location_y.ffill()\n",
    "real_data.location_x.fillna(method='ffill', inplace= True)"
   ]
  },
  {
   "cell_type": "code",
   "execution_count": 13,
   "id": "52942e7e",
   "metadata": {},
   "outputs": [
    {
     "name": "stdout",
     "output_type": "stream",
     "text": [
      "                   timestamp   unit_id           unit_type  location_x  \\\n",
      "0        2023-06-13 17:33:18         1               at-st         2.0   \n",
      "1        2023-06-13 17:33:17         2        tie_silencer         4.0   \n",
      "2        2023-06-13 17:33:16         3               at-at         0.0   \n",
      "3        2023-06-13 17:33:15         4        tie_silencer         6.0   \n",
      "4        2023-06-13 17:33:14         5         tie_fighter         0.0   \n",
      "...                      ...       ...                 ...         ...   \n",
      "9999995  2023-02-18 10:26:20   9999996  resistance_soldier         6.0   \n",
      "9999996  2023-02-18 10:26:19   9999997        tie_silencer         8.0   \n",
      "9999997  2023-02-18 10:26:18   9999998         tie_fighter         7.0   \n",
      "9999998  2023-02-18 10:26:17   9999999         tie_fighter         6.0   \n",
      "9999999  2023-02-18 10:26:16  10000000             unknown         6.0   \n",
      "\n",
      "         location_y  destination_x  destination_y    homeworld  \n",
      "0               8.0              1              1  Glee Anselm  \n",
      "1               4.0              0              1    Trandosha  \n",
      "2               3.0              6              1     Corellia  \n",
      "3               1.0              6              9        Shili  \n",
      "4               4.0              9              6   Muunilinst  \n",
      "...             ...            ...            ...          ...  \n",
      "9999995         6.0              1              3      Troiken  \n",
      "9999996         6.0              2              0     Kashyyyk  \n",
      "9999997         7.0              6              4     Kashyyyk  \n",
      "9999998         6.0              8              8        Kalee  \n",
      "9999999         6.0              3              0        Skako  \n",
      "\n",
      "[10000000 rows x 8 columns]\n"
     ]
    }
   ],
   "source": [
    "print(real_data)"
   ]
  },
  {
   "cell_type": "code",
   "execution_count": 14,
   "id": "529e4c17",
   "metadata": {},
   "outputs": [],
   "source": [
    "real_data.to_parquet('troop_movements10m.parquet', engine='fastparquet')"
   ]
  },
  {
   "cell_type": "code",
   "execution_count": null,
   "id": "fd2cf0c6",
   "metadata": {},
   "outputs": [],
   "source": []
  }
 ],
 "metadata": {
  "kernelspec": {
   "display_name": "Python 3 (ipykernel)",
   "language": "python",
   "name": "python3"
  },
  "language_info": {
   "codemirror_mode": {
    "name": "ipython",
    "version": 3
   },
   "file_extension": ".py",
   "mimetype": "text/x-python",
   "name": "python",
   "nbconvert_exporter": "python",
   "pygments_lexer": "ipython3",
   "version": "3.10.9"
  }
 },
 "nbformat": 4,
 "nbformat_minor": 5
}
